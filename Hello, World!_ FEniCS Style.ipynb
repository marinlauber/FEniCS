{
 "cells": [
  {
   "cell_type": "markdown",
   "metadata": {},
   "source": [
    "<h1><center> \"Hello, World!\" FEniCS Style</center></h1>\n",
    "\n",
    "<h3><center> FEniCS Workshop Exercise 1</center></h3>"
   ]
  },
  {
   "cell_type": "code",
   "execution_count": 1,
   "metadata": {},
   "outputs": [],
   "source": [
    "import matplotlib.pyplot as plt\n",
    "from matplotlib import rcParams\n",
    "rcParams['font.family'] = 'serif'\n",
    "rcParams['font.size'] = 16\n",
    "rcParams['figure.figsize'] = (12, 6)"
   ]
  },
  {
   "cell_type": "markdown",
   "metadata": {},
   "source": [
    "We will now proceed to the finite element equivalent of `print(\"Hello, World!\")`: solving Poisson's equation!\n",
    "\n",
    "\\begin{equation}\n",
    "  -\\nabla^2u  = f \\qquad \\text{in} \\,\\,\\, \\Omega\\,.\n",
    "\\end{equation}\n",
    "\n",
    "To make our life simple, we will _manufacture_ a solution, by inserting the solution $u(x, y) = 1 + x^2 + 2y^2$, into the Poisson's equation, giving\n",
    "\n",
    "\\begin{equation}\n",
    "f = -\\nabla^2u = -\\nabla^2(1 + x^2 + 2y^2) = -(2+4) = -6\n",
    "\\end{equation}\n",
    "This is also the boundary condition of the problem."
   ]
  },
  {
   "cell_type": "code",
   "execution_count": 2,
   "metadata": {},
   "outputs": [],
   "source": [
    "from fenics import *"
   ]
  },
  {
   "cell_type": "markdown",
   "metadata": {},
   "source": [
    "The first step is to define a mesh, in this case we will solve the Poisson's equation on a unit square mesh (try the function `UnitSquareMesh(ny, ny)`)"
   ]
  },
  {
   "cell_type": "code",
   "execution_count": 3,
   "metadata": {},
   "outputs": [
    {
     "data": {
      "image/png": "[encoded data removed]",
      "text/plain": [
       "<Figure size 432x288 with 1 Axes>"
      ]
     },
     "metadata": {},
     "output_type": "display_data"
    }
   ],
   "source": [
    "mesh = UnitSquareMesh(8, 8)# create an 8x8 unit square mesh\n",
    "plot(mesh);"
   ]
  },
  {
   "cell_type": "markdown",
   "metadata": {},
   "source": [
    "Now will define our function space. For this we can use the function `FunctionSpace(mesh, 'element', order)`. This function requires a mesh, a family of elements and an order as paramaters."
   ]
  },
  {
   "cell_type": "code",
   "execution_count": 4,
   "metadata": {},
   "outputs": [],
   "source": [
    "V = FunctionSpace(mesh, 'Lagrange', 1) # Use first order Lagrange elements, and the mesh you just created"
   ]
  },
  {
   "cell_type": "markdown",
   "metadata": {},
   "source": [
    "We are now ready to set up the problem. We will define the value of $u$ on the boundary as\n",
    "\n",
    "\\begin{equation}\n",
    "u_D = 1 + x^2 + 2y^2\\,.\n",
    "\\end{equation}\n",
    "\n",
    "(hint: try to define an `Expression()`)"
   ]
  },
  {
   "cell_type": "code",
   "execution_count": 5,
   "metadata": {},
   "outputs": [],
   "source": [
    "u_D = Expression('1 + x[0]*x[0] + 2*x[1]*x[1]', degree=2)\n",
    "#the expression is written C-style: 1 + x[0]*x[0] + 2*x[1]*x[1]"
   ]
  },
  {
   "cell_type": "markdown",
   "metadata": {},
   "source": [
    "The boundary conditions of this problem are: $u(0, y) = u(1, y) = u(x, 0) = u(x, 1) = u_D$. To impose this, we need a function that return `True` if the node lies on the boundary and `False` otherwise."
   ]
  },
  {
   "cell_type": "code",
   "execution_count": 6,
   "metadata": {},
   "outputs": [],
   "source": [
    "def boundary(x, on_boundary):\n",
    "    # x[0] = x, x[1] = y\n",
    "    return near(x[0], 0) or near(x[0], 1) or near(x[1], 0) or near(x[1], 1)"
   ]
  },
  {
   "cell_type": "markdown",
   "metadata": {},
   "source": [
    "Now tell __FEniCS__ to apply the boundary condition on $V$ using the epxression $u_D$ on the boundary. `DirichletBC()`"
   ]
  },
  {
   "cell_type": "code",
   "execution_count": 7,
   "metadata": {},
   "outputs": [],
   "source": [
    "bc = DirichletBC(V, u_D, boundary)"
   ]
  },
  {
   "cell_type": "markdown",
   "metadata": {},
   "source": [
    "Now that we have our domain and boundary condition, we need to specify the test and trial function. For simplicity we will use the same function space for both."
   ]
  },
  {
   "cell_type": "code",
   "execution_count": 8,
   "metadata": {},
   "outputs": [],
   "source": [
    "# both trial and test functions are defined based on the same function space V\n",
    "u = TrialFunction(V)\n",
    "v = TestFunction(V)"
   ]
  },
  {
   "cell_type": "markdown",
   "metadata": {},
   "source": [
    "The only part missing is the source term $f$, wich has a constant value of -6."
   ]
  },
  {
   "cell_type": "code",
   "execution_count": 9,
   "metadata": {},
   "outputs": [],
   "source": [
    "f = Constant(-6)\n",
    "# can also be define as Expression(\"-6.0\", degree=2) but this is less efficient"
   ]
  },
  {
   "cell_type": "markdown",
   "metadata": {},
   "source": [
    "Now we must write the variational problem in the FEniCS form\n",
    "\n",
    "\\begin{equation}\n",
    "    a(u, v) = L(v)\\,,\n",
    "\\end{equation}\n",
    "\n",
    "for our problem this gives\n",
    "\n",
    "\\begin{equation}\n",
    "\\begin{split}\n",
    "    a(u, v) & = \\int_{\\Omega} (\\nabla u \\cdot\\nabla v)\\,\\text{d}\\Omega\\,,\\\\\n",
    "    L(v) & = \\int_{\\Omega} \\,f \\,v\\,\\text{d}\\Omega\\,.\n",
    "\\end{split}\n",
    "\\end{equation}"
   ]
  },
  {
   "cell_type": "code",
   "execution_count": 10,
   "metadata": {},
   "outputs": [],
   "source": [
    "a = inner(grad(u), grad(v))*dx\n",
    "L = f*v*dx"
   ]
  },
  {
   "cell_type": "markdown",
   "metadata": {},
   "source": [
    "The only step left is to solve. For this, we first define a vector to store the solution $u_{sol}$, and set the solver parameters to the desired methods."
   ]
  },
  {
   "cell_type": "code",
   "execution_count": 11,
   "metadata": {},
   "outputs": [],
   "source": [
    "u_sol =  Function(V) # vector to store the solution\n",
    "solve(a == L, u_sol, bc,\n",
    "     solver_parameters={'linear_solver':'cg',\n",
    "                        'preconditioner':'ilu'})"
   ]
  },
  {
   "cell_type": "markdown",
   "metadata": {},
   "source": [
    "Plot the results"
   ]
  },
  {
   "cell_type": "code",
   "execution_count": 12,
   "metadata": {},
   "outputs": [
    {
     "data": {
      "image/png": "[encoded data removed]",
      "text/plain": [
       "<Figure size 432x288 with 2 Axes>"
      ]
     },
     "metadata": {},
     "output_type": "display_data"
    }
   ],
   "source": [
    "p = plot(u_sol, title=\"Solution to Poisson\")\n",
    "plt.colorbar(p, label=\"u\");"
   ]
  },
  {
   "cell_type": "markdown",
   "metadata": {},
   "source": [
    "---\n",
    "\n",
    "__FEniCS__ has a function to compute the error in the L-2 norm. First we need an exact solution, because we manufactured a solution from a boundary condition, our boundary condition is also our exact solution. We can thus interpolate the boundary values into the domain using the space function $V$"
   ]
  },
  {
   "cell_type": "code",
   "execution_count": 13,
   "metadata": {},
   "outputs": [],
   "source": [
    "u_e = interpolate(u_D, V)"
   ]
  },
  {
   "cell_type": "markdown",
   "metadata": {},
   "source": [
    "Compute the $L_2$-norm of the error"
   ]
  },
  {
   "cell_type": "code",
   "execution_count": 14,
   "metadata": {},
   "outputs": [],
   "source": [
    "error_L2 = errornorm(u_e, u_sol, 'L2')"
   ]
  },
  {
   "cell_type": "code",
   "execution_count": 15,
   "metadata": {},
   "outputs": [
    {
     "name": "stdout",
     "output_type": "stream",
     "text": [
      "L2 norm in the error 4.313e-16\n"
     ]
    }
   ],
   "source": [
    "print(f\"L2 norm in the error {error_L2:.3e}\")"
   ]
  },
  {
   "cell_type": "markdown",
   "metadata": {},
   "source": [
    "---\n",
    "It is also straight forward to extract values at any point in the domain"
   ]
  },
  {
   "cell_type": "code",
   "execution_count": 16,
   "metadata": {},
   "outputs": [],
   "source": [
    "import numpy as np\n",
    "tol = 0.001\n",
    "y = np.linspace(0 + tol, 1 - tol, 101)\n",
    "points = [(0, y_) for y_ in y]\n",
    "u_line = np.array([u_sol(point) for point in points])"
   ]
  },
  {
   "cell_type": "code",
   "execution_count": 17,
   "metadata": {},
   "outputs": [
    {
     "data": {
      "image/png": "[encoded data removed]",
      "text/plain": [
       "<Figure size 432x288 with 1 Axes>"
      ]
     },
     "metadata": {},
     "output_type": "display_data"
    }
   ],
   "source": [
    "plt.plot(y, u_line, 'k');"
   ]
  }
 ],
 "metadata": {
  "kernelspec": {
   "display_name": "Python 3",
   "language": "python",
   "name": "python3"
  },
  "language_info": {
   "codemirror_mode": {
    "name": "ipython",
    "version": 3
   },
   "file_extension": ".py",
   "mimetype": "text/x-python",
   "name": "python",
   "nbconvert_exporter": "python",
   "pygments_lexer": "ipython3",
   "version": "3.6.7"
  }
 },
 "nbformat": 4,
 "nbformat_minor": 2
}
