{
 "cells": [
  {
   "cell_type": "code",
   "execution_count": null,
   "metadata": {},
   "outputs": [],
   "source": [
    "from mpl_toolkits.axes_grid1 import make_axes_locatable"
   ]
  },
  {
   "cell_type": "code",
   "execution_count": 1,
   "metadata": {},
   "outputs": [],
   "source": [
    "def cup_slice(tol = 0):\n",
    "    rect1 = Rectangle(Point(-0.4+tol, 0+tol), Point(0.4-tol, 1-tol))\n",
    "    rect2 = Rectangle(Point(-0.3-tol, 0.1-tol), Point(0.3+tol, 1-tol))\n",
    "    circ1 = Circle(Point(0.4, 0.5), 0.35-tol)\n",
    "    circ2 = Circle(Point(0.4, 0.5), 0.25+tol)\n",
    "\n",
    "    domain = (rect1 + (circ1 - circ2)) - rect2\n",
    "    mesh2d = generate_mesh(domain, 25)\n",
    "    return mesh2d"
   ]
  },
  {
   "cell_type": "code",
   "execution_count": null,
   "metadata": {},
   "outputs": [],
   "source": [
    "def plot_time(n, u, t, num=10):\n",
    "    '''\n",
    "    '''\n",
    "    if(n%10 == 0):\n",
    "        plt.figure()\n",
    "        p = plot(u, title=f\"Solution at Time {t:.1f}s\")\n",
    "        plt.colorbar(p ,label=\"Temperature\")\n",
    "        plt.show()"
   ]
  },
  {
   "cell_type": "code",
   "execution_count": 1,
   "metadata": {},
   "outputs": [],
   "source": [
    "def animate(u_sols, time, mesh):\n",
    "    fig = plt.figure()\n",
    "    ax = fig.add_subplot(111, projection='3d')\n",
    "\n",
    "    image = ax.scatter(mesh.coordinates()[:,0], mesh.coordinates()[:,1],mesh.coordinates()[:,2], c=u_sols[0])\n",
    "    ax.set_xlabel('$x$', labelpad=8)\n",
    "    ax.set_ylabel('$y$', labelpad=12)\n",
    "    ax.set_zlabel('$z$', labelpad=12)\n",
    "    ax.view_init(elev=30., azim=290)\n",
    "\n",
    "    def animate(i):\n",
    "        cols = u_sols[i]\n",
    "        ax.set_title(f\"Solution at Time {time[i]:.1f}s\")\n",
    "        image = ax.scatter(mesh.coordinates()[:,0], mesh.coordinates()[:,1],mesh.coordinates()[:,2], c=u_sols[i])\n",
    "        return image,\n",
    "\n",
    "    anim = animation.FuncAnimation(fig, animate, frames=np.arange(0, 50, 1), \\\n",
    "                                          interval=100, blit=True, repeat=True)\n",
    "\n",
    "    plt.close()\n",
    "    return anim"
   ]
  },
  {
   "cell_type": "code",
   "execution_count": null,
   "metadata": {},
   "outputs": [],
   "source": [
    "def animate_slice(u_sols_slice, time, mesh2d, V2):\n",
    "    u2 = Function(V2)\n",
    "    dof_map = vertex_to_dof_map(V2)\n",
    "    xy = mesh2d.coordinates()\n",
    "    t = tri.Triangulation(xy[:, 0], xy[:, 1], mesh2d.cells())\n",
    "\n",
    "    fig = plt.figure()\n",
    "    ax = fig.add_subplot(111)\n",
    "    divider = make_axes_locatable(ax)\n",
    "    cax = divider.append_axes('right', size='5%', pad=0.05)\n",
    "\n",
    "    def animate(i):\n",
    "        for j in range(V2.dim()):\n",
    "            u2.vector()[dof_map[j]] = u_sols_slice[i][j]\n",
    "        \n",
    "        p = ax.tricontourf(t, u2.compute_vertex_values(), vmin=18, vmax=60)\n",
    "        ax.set_title(f\"Solution at Time {time[i]:.1f}s\")\n",
    "        ax.set_xlabel('$y$')\n",
    "        ax.set_ylabel('$z$')\n",
    "    \n",
    "        # Add colourbar\n",
    "        fig.colorbar(p, cax=cax, orientation='vertical', label=\"Temperature\")\n",
    "        return p,\n",
    "    \n",
    "    anim = animation.FuncAnimation(fig, animate, frames=np.arange(0, 50, 1), \\\n",
    "                                    interval=100, repeat=True)\n",
    "    plt.close()\n",
    "    return anim"
   ]
  }
 ],
 "metadata": {
  "kernelspec": {
   "display_name": "Python 3",
   "language": "python",
   "name": "python3"
  },
  "language_info": {
   "codemirror_mode": {
    "name": "ipython",
    "version": 3
   },
   "file_extension": ".py",
   "mimetype": "text/x-python",
   "name": "python",
   "nbconvert_exporter": "python",
   "pygments_lexer": "ipython3",
   "version": "3.6.7"
  }
 },
 "nbformat": 4,
 "nbformat_minor": 2
}
