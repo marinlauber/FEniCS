{
 "cells": [
  {
   "cell_type": "markdown",
   "metadata": {},
   "source": [
    "# Gaussian Hill Diffusion\n"
   ]
  },
  {
   "cell_type": "code",
   "execution_count": null,
   "metadata": {},
   "outputs": [],
   "source": [
    "import matplotlib.pyplot as plt\n",
    "import matplotlib.tri as tri\n",
    "import matplotlib.animation as animation\n",
    "from IPython.display import HTML\n",
    "from mpl_toolkits.mplot3d import Axes3D\n",
    "from matplotlib import rcParams\n",
    "rcParams['font.family'] = 'serif'\n",
    "rcParams['font.size'] = 16\n",
    "rcParams['figure.figsize'] = (12, 6)"
   ]
  },
  {
   "cell_type": "code",
   "execution_count": null,
   "metadata": {},
   "outputs": [],
   "source": [
    "from fenics import *\n",
    "import numpy as np"
   ]
  },
  {
   "cell_type": "markdown",
   "metadata": {},
   "source": [
    "### Formulation\n",
    "\n",
    "The diffusion of a field $u$ is given by the unsteady heat equation\n",
    "\n",
    "\\begin{equation}\n",
    "\\frac{\\partial u}{\\partial t} = \\nabla^2 u + f \\qquad \\text{in} \\,\\, \\Omega\\times (0, T],\n",
    "\\end{equation}\n",
    "\n",
    "with boundary and inital conditions\n",
    "\n",
    "\\begin{equation}\n",
    "\\begin{split}\n",
    "u = & u_D \\qquad \\text{on} \\,\\, \\partial\\Omega \\times(0, T],\\\\\n",
    "u = & u_0 \\qquad \\text{at} \\,\\, t=0.\n",
    "\\end{split}\n",
    "\\end{equation}\n",
    "\n",
    "Here we will solve the diffusion of a Gaussian hill defined as\n",
    "\n",
    "\\begin{equation}\n",
    "u_0(x, y) = e^{(-ax^2 - ay^2)},\n",
    "\\end{equation}\n",
    "\n",
    "for $a=2$ on the domain $\\Omega$: $[-2, 2]^2 \\in \\mathbb{R}^2$. We will use homogenous Dirichlet boundary conditions, implying that $u_D=0$.\n"
   ]
  },
  {
   "cell_type": "markdown",
   "metadata": {},
   "source": [
    "### Variational Form and Time discretization\n",
    "\n",
    "We will discretize the solution in time using a backward Euler method. This transforms your problem is a sequanece of stationary problems, where is stationary problem is a variational problem.\n",
    "\n",
    "the discretized unsteday heat equations is (using Backward Euler)\n",
    "\n",
    "\\begin{equation}\n",
    "u^{n+1} -\\Delta t\\nabla^2u^{n+1} = u^{n} + \\Delta t f^{n+1}, \\,\\,\\,\\, n=1, 2,\\cdots\n",
    "\\end{equation}\n",
    "\n",
    "with\n",
    "\n",
    "\\begin{equation}\n",
    "u^{0} =u_0.\n",
    "\\end{equation}\n",
    "\n",
    "This can be expressed in its weak form as\n",
    "\n",
    "\\begin{equation}\n",
    "\\int_\\Omega (u^{n+1}v + \\Delta t\\nabla u^{n+1} \\cdot \\nabla v)\\,dx = \\int_\\Omega (u^n + \\Delta t f^{n+1})v\\,dx,\n",
    "\\end{equation}\n",
    "or simply as\n",
    "\\begin{equation}\n",
    "a(u^{n+1}, v) = L_{n+1}(v).\n",
    "\\end{equation}\n",
    "\n",
    "This is the variational problem that must be solved at each time-step. In addition to this we also need to interpolate the initial condition on our function space (interpolation approach)."
   ]
  },
  {
   "cell_type": "code",
   "execution_count": null,
   "metadata": {},
   "outputs": [],
   "source": [
    "T = 2.0                  # final time\n",
    "num_steps = 50           # number of time steps\n",
    "dt = T / num_steps       # time step"
   ]
  },
  {
   "cell_type": "markdown",
   "metadata": {},
   "source": [
    "### Domain and Mesh\n",
    "\n",
    "Here we will solve the problem on the domain $\\Omega$ defined earlier. We will use 32 nodes in both $x$ and $y$ direction. \n",
    "\n",
    "(Hint: us the `RectangleMesh()` function with `Point(x, y)`.)"
   ]
  },
  {
   "cell_type": "code",
   "execution_count": null,
   "metadata": {},
   "outputs": [],
   "source": [
    "nx = ny = 32       # 32 grid point in each direction\n",
    "mesh = RectangleMesh(Point(-2, -2), Point(2, 2), nx, ny)\n",
    "V = FunctionSpace(mesh, 'Lagrange', 1)\n",
    "plot(mesh);"
   ]
  },
  {
   "cell_type": "markdown",
   "metadata": {},
   "source": [
    "### Boundary Conditions\n",
    "\n",
    "The homogenous Dirichlet boundary conditions are straight forward to apply to the function space $V$."
   ]
  },
  {
   "cell_type": "code",
   "execution_count": null,
   "metadata": {},
   "outputs": [],
   "source": [
    "bc = DirichletBC(V, Constant(0), \"on_boundary\")"
   ]
  },
  {
   "cell_type": "markdown",
   "metadata": {},
   "source": [
    "The inital value $u_0$ must then be defined.\n",
    "\n",
    "(Hint: recall that when defining an expression, any variable must be explicitly defined in the function `Expression()`.)"
   ]
  },
  {
   "cell_type": "code",
   "execution_count": null,
   "metadata": {},
   "outputs": [],
   "source": [
    "u_0 = Expression('exp(-a*x[0]*x[0] - a*x[1]*x[1])',\n",
    "                 degree=2, a=2)"
   ]
  },
  {
   "cell_type": "markdown",
   "metadata": {},
   "source": [
    "Now we can interpolate the initial solution on the domain (via the function space $V$) to get our $u^n$"
   ]
  },
  {
   "cell_type": "code",
   "execution_count": null,
   "metadata": {},
   "outputs": [],
   "source": [
    "u_n = interpolate(u_0, V)"
   ]
  },
  {
   "cell_type": "markdown",
   "metadata": {},
   "source": [
    "Define the trial ($u$) and test ($v$) functions"
   ]
  },
  {
   "cell_type": "code",
   "execution_count": null,
   "metadata": {},
   "outputs": [],
   "source": [
    "u = TrialFunction(V)\n",
    "v = TestFunction(V)"
   ]
  },
  {
   "cell_type": "markdown",
   "metadata": {},
   "source": [
    "### Source Term\n",
    "\n",
    "We assumed no source term.\n",
    "\n",
    "(Hint: can you really set `f = 0`?)"
   ]
  },
  {
   "cell_type": "code",
   "execution_count": null,
   "metadata": {},
   "outputs": [],
   "source": [
    "f = Constant(0)"
   ]
  },
  {
   "cell_type": "markdown",
   "metadata": {},
   "source": [
    "### Variational Form\n",
    "\n",
    "Now we can write the problem into its variational form, as given above"
   ]
  },
  {
   "cell_type": "code",
   "execution_count": null,
   "metadata": {},
   "outputs": [],
   "source": [
    "a = (u*v + dt*inner(grad(u), grad(v)))*dx\n",
    "L = (u_n + dt*f)*v*dx"
   ]
  },
  {
   "cell_type": "markdown",
   "metadata": {},
   "source": [
    "Before silving we just need to define a solution vector to hold the variable at each time-step, and initialise the solution time $t$."
   ]
  },
  {
   "cell_type": "code",
   "execution_count": null,
   "metadata": {},
   "outputs": [],
   "source": [
    "u_sol = Function(V)\n",
    "t = 0\n",
    "u_sols = []"
   ]
  },
  {
   "cell_type": "markdown",
   "metadata": {},
   "source": [
    "Now we can loop over the number of steps, solving the variational problem at each time-step, as we did in the previous exercises. Finally, we must assign the value $u^{n+1}$ to $u^n$ before proceeding to the next time-step.\n",
    "\n",
    "(Hint: use the function `.assign()` to assign the solution at time $n+1$ (`u_sol`) to the value at time $n$ (`u_n`).)"
   ]
  },
  {
   "cell_type": "code",
   "execution_count": null,
   "metadata": {
    "scrolled": false
   },
   "outputs": [],
   "source": [
    "for n in range(num_steps+1):\n",
    "    \n",
    "    # compute solution\n",
    "    solve(a == L, u_sol, bc)\n",
    "    \n",
    "    # save the solution to an array\n",
    "    u_sols.append(u_sol.compute_vertex_values(mesh))\n",
    "\n",
    "    # update previous solution\n",
    "    u_n.assign(u_sol)\n",
    "# end"
   ]
  },
  {
   "cell_type": "code",
   "execution_count": null,
   "metadata": {},
   "outputs": [],
   "source": [
    "xy = mesh.coordinates()\n",
    "t = tri.Triangulation(xy[:, 0], xy[:, 1], mesh.cells())\n",
    "\n",
    "fig = plt.figure()\n",
    "ax = fig.add_subplot(111, projection='3d')\n",
    "tris = [ax.plot_trisurf(t, u_sols[0], cmap=\"viridis\", vmax=0.8)]\n",
    "ax.set_zlim(0, 0.8)\n",
    "\n",
    "def animate(i):\n",
    "    tris[0].remove()\n",
    "    tris[0] = ax.plot_trisurf(t, u_sols[i+1], cmap=\"viridis\", vmax=0.8)\n",
    "\n",
    "anim = animation.FuncAnimation(fig, animate, frames=np.arange(0, 50, 1), interval=100)\n",
    "\n",
    "HTML(anim.to_html5_video())"
   ]
  }
 ],
 "metadata": {
  "kernelspec": {
   "display_name": "Python 3",
   "language": "python",
   "name": "python3"
  },
  "language_info": {
   "codemirror_mode": {
    "name": "ipython",
    "version": 3
   },
   "file_extension": ".py",
   "mimetype": "text/x-python",
   "name": "python",
   "nbconvert_exporter": "python",
   "pygments_lexer": "ipython3",
   "version": "3.6.7"
  }
 },
 "nbformat": 4,
 "nbformat_minor": 2
}
